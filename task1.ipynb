{
  "cells": [
    {
      "cell_type": "markdown",
      "metadata": {
        "id": "view-in-github",
        "colab_type": "text"
      },
      "source": [
        "<a href=\"https://colab.research.google.com/github/dquangucsd/Lab2_Starter/blob/main/task1.ipynb\" target=\"_parent\"><img src=\"https://colab.research.google.com/assets/colab-badge.svg\" alt=\"Open In Colab\"/></a>"
      ]
    },
    {
      "cell_type": "code",
      "source": [
        "!curl -L -o ./classical-music-midi.zip\\\n",
        "  https://www.kaggle.com/api/v1/datasets/download/soumikrakshit/classical-music-midi"
      ],
      "metadata": {
        "id": "0rC0-83h2THA",
        "outputId": "21a5f728-5cc5-48b7-c466-dbbdf795295d",
        "colab": {
          "base_uri": "https://localhost:8080/"
        }
      },
      "execution_count": 1,
      "outputs": [
        {
          "output_type": "stream",
          "name": "stdout",
          "text": [
            "  % Total    % Received % Xferd  Average Speed   Time    Time     Time  Current\n",
            "                                 Dload  Upload   Total   Spent    Left  Speed\n",
            "  0     0    0     0    0     0      0      0 --:--:-- --:--:-- --:--:--     0\n",
            "100 2388k  100 2388k    0     0  2582k      0 --:--:-- --:--:-- --:--:-- 2582k\n"
          ]
        }
      ]
    },
    {
      "cell_type": "code",
      "source": [
        "!ls midis"
      ],
      "metadata": {
        "id": "iAjKEZYj2dAI",
        "outputId": "80c6ee14-d3e6-44f7-ea04-e80161696365",
        "colab": {
          "base_uri": "https://localhost:8080/"
        }
      },
      "execution_count": 2,
      "outputs": [
        {
          "output_type": "stream",
          "name": "stdout",
          "text": [
            "ls: cannot access 'midis': No such file or directory\n"
          ]
        }
      ]
    },
    {
      "cell_type": "code",
      "source": [
        "!mkdir midis"
      ],
      "metadata": {
        "id": "13VKF5QY2S1p"
      },
      "execution_count": 3,
      "outputs": []
    },
    {
      "cell_type": "code",
      "source": [
        "!ls midis"
      ],
      "metadata": {
        "id": "kMa4_t2w2i12"
      },
      "execution_count": 4,
      "outputs": []
    },
    {
      "cell_type": "code",
      "source": [
        "!mv classical-music-midi.zip midis/"
      ],
      "metadata": {
        "id": "c_k0hyic2Sob"
      },
      "execution_count": 5,
      "outputs": []
    },
    {
      "cell_type": "code",
      "source": [
        "!ls midis"
      ],
      "metadata": {
        "id": "_9iBC4nz2arB",
        "outputId": "fd760f90-1b6c-462b-d480-a46dccd11cff",
        "colab": {
          "base_uri": "https://localhost:8080/"
        }
      },
      "execution_count": 6,
      "outputs": [
        {
          "output_type": "stream",
          "name": "stdout",
          "text": [
            "classical-music-midi.zip\n"
          ]
        }
      ]
    },
    {
      "cell_type": "code",
      "source": [
        "!unzip ./midis/classical-music-midi.zip"
      ],
      "metadata": {
        "id": "03fgFJS62SSs",
        "outputId": "04b68b90-ebea-4207-d044-4b2d0dce0c81",
        "colab": {
          "base_uri": "https://localhost:8080/"
        }
      },
      "execution_count": 7,
      "outputs": [
        {
          "output_type": "stream",
          "name": "stdout",
          "text": [
            "Archive:  ./midis/classical-music-midi.zip\n",
            "  inflating: albeniz/alb_esp1.mid    \n",
            "  inflating: albeniz/alb_esp2.mid    \n",
            "  inflating: albeniz/alb_esp3.mid    \n",
            "  inflating: albeniz/alb_esp4.mid    \n",
            "  inflating: albeniz/alb_esp5.mid    \n",
            "  inflating: albeniz/alb_esp6.mid    \n",
            "  inflating: albeniz/alb_se1.mid     \n",
            "  inflating: albeniz/alb_se2.mid     \n",
            "  inflating: albeniz/alb_se3.mid     \n",
            "  inflating: albeniz/alb_se4.mid     \n",
            "  inflating: albeniz/alb_se5.mid     \n",
            "  inflating: albeniz/alb_se6.mid     \n",
            "  inflating: albeniz/alb_se7.mid     \n",
            "  inflating: albeniz/alb_se8.mid     \n",
            "  inflating: bach/bach_846.mid       \n",
            "  inflating: bach/bach_847.mid       \n",
            "  inflating: bach/bach_850.mid       \n",
            "  inflating: balakir/islamei.mid     \n",
            "  inflating: beeth/appass_1.mid      \n",
            "  inflating: beeth/appass_2.mid      \n",
            "  inflating: beeth/appass_3.mid      \n",
            "  inflating: beeth/beethoven_hammerklavier_1.mid  \n",
            "  inflating: beeth/beethoven_hammerklavier_2.mid  \n",
            "  inflating: beeth/beethoven_hammerklavier_3.mid  \n",
            "  inflating: beeth/beethoven_hammerklavier_4.mid  \n",
            "  inflating: beeth/beethoven_les_adieux_1.mid  \n",
            "  inflating: beeth/beethoven_les_adieux_2.mid  \n",
            "  inflating: beeth/beethoven_les_adieux_3.mid  \n",
            "  inflating: beeth/beethoven_opus10_1.mid  \n",
            "  inflating: beeth/beethoven_opus10_2.mid  \n",
            "  inflating: beeth/beethoven_opus10_3.mid  \n",
            "  inflating: beeth/beethoven_opus22_1.mid  \n",
            "  inflating: beeth/beethoven_opus22_2.mid  \n",
            "  inflating: beeth/beethoven_opus22_3.mid  \n",
            "  inflating: beeth/beethoven_opus22_4.mid  \n",
            "  inflating: beeth/beethoven_opus90_1.mid  \n",
            "  inflating: beeth/beethoven_opus90_2.mid  \n",
            "  inflating: beeth/elise.mid         \n",
            "  inflating: beeth/mond_1.mid        \n",
            "  inflating: beeth/mond_2.mid        \n",
            "  inflating: beeth/mond_3.mid        \n",
            "  inflating: beeth/pathetique_1.mid  \n",
            "  inflating: beeth/pathetique_2.mid  \n",
            "  inflating: beeth/pathetique_3.mid  \n",
            "  inflating: beeth/waldstein_1.mid   \n",
            "  inflating: beeth/waldstein_2.mid   \n",
            "  inflating: beeth/waldstein_3.mid   \n",
            "  inflating: borodin/bor_ps1.mid     \n",
            "  inflating: borodin/bor_ps2.mid     \n",
            "  inflating: borodin/bor_ps3.mid     \n",
            "  inflating: borodin/bor_ps4.mid     \n",
            "  inflating: borodin/bor_ps5.mid     \n",
            "  inflating: borodin/bor_ps6.mid     \n",
            "  inflating: borodin/bor_ps7.mid     \n",
            "  inflating: brahms/BR_IM6.MID       \n",
            "  inflating: brahms/br_im2.mid       \n",
            "  inflating: brahms/br_im5.mid       \n",
            "  inflating: brahms/br_rhap.mid      \n",
            "  inflating: brahms/brahms_opus117_1.mid  \n",
            "  inflating: brahms/brahms_opus117_2.mid  \n",
            "  inflating: brahms/brahms_opus1_1.mid  \n",
            "  inflating: brahms/brahms_opus1_2.mid  \n",
            "  inflating: brahms/brahms_opus1_3.mid  \n",
            "  inflating: brahms/brahms_opus1_4.mid  \n",
            "  inflating: burgm/burg_agitato.mid  \n",
            "  inflating: burgm/burg_erwachen.mid  \n",
            "  inflating: burgm/burg_geschwindigkeit.mid  \n",
            "  inflating: burgm/burg_gewitter.mid  \n",
            "  inflating: burgm/burg_perlen.mid   \n",
            "  inflating: burgm/burg_quelle.mid   \n",
            "  inflating: burgm/burg_spinnerlied.mid  \n",
            "  inflating: burgm/burg_sylphen.mid  \n",
            "  inflating: burgm/burg_trennung.mid  \n",
            "  inflating: chopin/chp_op18.mid     \n",
            "  inflating: chopin/chp_op31.mid     \n",
            "  inflating: chopin/chpn-p1.mid      \n",
            "  inflating: chopin/chpn-p10.mid     \n",
            "  inflating: chopin/chpn-p11.mid     \n",
            "  inflating: chopin/chpn-p12.mid     \n",
            "  inflating: chopin/chpn-p13.mid     \n",
            "  inflating: chopin/chpn-p14.mid     \n",
            "  inflating: chopin/chpn-p15.mid     \n",
            "  inflating: chopin/chpn-p16.mid     \n",
            "  inflating: chopin/chpn-p17.mid     \n",
            "  inflating: chopin/chpn-p18.mid     \n",
            "  inflating: chopin/chpn-p19.mid     \n",
            "  inflating: chopin/chpn-p2.mid      \n",
            "  inflating: chopin/chpn-p20.mid     \n",
            "  inflating: chopin/chpn-p21.mid     \n",
            "  inflating: chopin/chpn-p22.mid     \n",
            "  inflating: chopin/chpn-p23.mid     \n",
            "  inflating: chopin/chpn-p24.mid     \n",
            "  inflating: chopin/chpn-p3.mid      \n",
            "  inflating: chopin/chpn-p4.mid      \n",
            "  inflating: chopin/chpn-p5.mid      \n",
            "  inflating: chopin/chpn-p6.mid      \n",
            "  inflating: chopin/chpn-p7.mid      \n",
            "  inflating: chopin/chpn-p8.mid      \n",
            "  inflating: chopin/chpn-p9.mid      \n",
            "  inflating: chopin/chpn_op10_e01.mid  \n",
            "  inflating: chopin/chpn_op10_e05.mid  \n",
            "  inflating: chopin/chpn_op10_e12.mid  \n",
            "  inflating: chopin/chpn_op23.mid    \n",
            "  inflating: chopin/chpn_op25_e1.mid  \n",
            "  inflating: chopin/chpn_op25_e11.mid  \n",
            "  inflating: chopin/chpn_op25_e12.mid  \n",
            "  inflating: chopin/chpn_op25_e2.mid  \n",
            "  inflating: chopin/chpn_op25_e3.mid  \n",
            "  inflating: chopin/chpn_op25_e4.mid  \n",
            "  inflating: chopin/chpn_op27_1.mid  \n",
            "  inflating: chopin/chpn_op27_2.mid  \n",
            "  inflating: chopin/chpn_op33_2.mid  \n",
            "  inflating: chopin/chpn_op33_4.mid  \n",
            "  inflating: chopin/chpn_op35_1.mid  \n",
            "  inflating: chopin/chpn_op35_2.mid  \n",
            "  inflating: chopin/chpn_op35_3.mid  \n",
            "  inflating: chopin/chpn_op35_4.mid  \n",
            "  inflating: chopin/chpn_op53.mid    \n",
            "  inflating: chopin/chpn_op66.mid    \n",
            "  inflating: chopin/chpn_op7_1.mid   \n",
            "  inflating: chopin/chpn_op7_2.mid   \n",
            "  inflating: debussy/DEB_CLAI.MID    \n",
            "  inflating: debussy/DEB_PASS.MID    \n",
            "  inflating: debussy/deb_menu.mid    \n",
            "  inflating: debussy/deb_prel.mid    \n",
            "  inflating: debussy/debussy_cc_1.mid  \n",
            "  inflating: debussy/debussy_cc_2.mid  \n",
            "  inflating: debussy/debussy_cc_3.mid  \n",
            "  inflating: debussy/debussy_cc_4.mid  \n",
            "  inflating: debussy/debussy_cc_6.mid  \n",
            "  inflating: granados/gra_esp_2.mid  \n",
            "  inflating: granados/gra_esp_3.mid  \n",
            "  inflating: granados/gra_esp_4.mid  \n",
            "  inflating: grieg/grieg_album.mid   \n",
            "  inflating: grieg/grieg_berceuse.mid  \n",
            "  inflating: grieg/grieg_brooklet.mid  \n",
            "  inflating: grieg/grieg_butterfly.mid  \n",
            "  inflating: grieg/grieg_elfentanz.mid  \n",
            "  inflating: grieg/grieg_halling.mid  \n",
            "  inflating: grieg/grieg_kobold.mid  \n",
            "  inflating: grieg/grieg_march.mid   \n",
            "  inflating: grieg/grieg_once_upon_a_time.mid  \n",
            "  inflating: grieg/grieg_spring.mid  \n",
            "  inflating: grieg/grieg_voeglein.mid  \n",
            "  inflating: grieg/grieg_waechter.mid  \n",
            "  inflating: grieg/grieg_walzer.mid  \n",
            "  inflating: grieg/grieg_wanderer.mid  \n",
            "  inflating: grieg/grieg_wedding.mid  \n",
            "  inflating: grieg/grieg_zwerge.mid  \n",
            "  inflating: haydn/hay_40_1.mid      \n",
            "  inflating: haydn/hay_40_2.mid      \n",
            "  inflating: haydn/haydn_33_1.mid    \n",
            "  inflating: haydn/haydn_33_2.mid    \n",
            "  inflating: haydn/haydn_33_3.mid    \n",
            "  inflating: haydn/haydn_35_1.mid    \n",
            "  inflating: haydn/haydn_35_2.mid    \n",
            "  inflating: haydn/haydn_35_3.mid    \n",
            "  inflating: haydn/haydn_43_1.mid    \n",
            "  inflating: haydn/haydn_43_2.mid    \n",
            "  inflating: haydn/haydn_43_3.mid    \n",
            "  inflating: haydn/haydn_7_1.mid     \n",
            "  inflating: haydn/haydn_7_2.mid     \n",
            "  inflating: haydn/haydn_7_3.mid     \n",
            "  inflating: haydn/haydn_8_1.mid     \n",
            "  inflating: haydn/haydn_8_2.mid     \n",
            "  inflating: haydn/haydn_8_3.mid     \n",
            "  inflating: haydn/haydn_8_4.mid     \n",
            "  inflating: haydn/haydn_9_1.mid     \n",
            "  inflating: haydn/haydn_9_2.mid     \n",
            "  inflating: haydn/haydn_9_3.mid     \n",
            "  inflating: liszt/liz_donjuan.mid   \n",
            "  inflating: liszt/liz_et1.mid       \n",
            "  inflating: liszt/liz_et2.mid       \n",
            "  inflating: liszt/liz_et3.mid       \n",
            "  inflating: liszt/liz_et4.mid       \n",
            "  inflating: liszt/liz_et5.mid       \n",
            "  inflating: liszt/liz_et6.mid       \n",
            "  inflating: liszt/liz_et_trans4.mid  \n",
            "  inflating: liszt/liz_et_trans5.mid  \n",
            "  inflating: liszt/liz_et_trans8.mid  \n",
            "  inflating: liszt/liz_liebestraum.mid  \n",
            "  inflating: liszt/liz_rhap02.mid    \n",
            "  inflating: liszt/liz_rhap09.mid    \n",
            "  inflating: liszt/liz_rhap10.mid    \n",
            "  inflating: liszt/liz_rhap12.mid    \n",
            "  inflating: liszt/liz_rhap15.mid    \n",
            "  inflating: mendelssohn/mendel_op19_1.mid  \n",
            "  inflating: mendelssohn/mendel_op19_2.mid  \n",
            "  inflating: mendelssohn/mendel_op19_3.mid  \n",
            "  inflating: mendelssohn/mendel_op19_4.mid  \n",
            "  inflating: mendelssohn/mendel_op19_5.mid  \n",
            "  inflating: mendelssohn/mendel_op19_6.mid  \n",
            "  inflating: mendelssohn/mendel_op30_1.mid  \n",
            "  inflating: mendelssohn/mendel_op30_2.mid  \n",
            "  inflating: mendelssohn/mendel_op30_3.mid  \n",
            "  inflating: mendelssohn/mendel_op30_4.mid  \n",
            "  inflating: mendelssohn/mendel_op30_5.mid  \n",
            "  inflating: mendelssohn/mendel_op53_5.mid  \n",
            "  inflating: mendelssohn/mendel_op62_3.mid  \n",
            "  inflating: mendelssohn/mendel_op62_4.mid  \n",
            "  inflating: mendelssohn/mendel_op62_5.mid  \n",
            "  inflating: mozart/mz_311_1.mid     \n",
            "  inflating: mozart/mz_311_2.mid     \n",
            "  inflating: mozart/mz_311_3.mid     \n",
            "  inflating: mozart/mz_330_1.mid     \n",
            "  inflating: mozart/mz_330_2.mid     \n",
            "  inflating: mozart/mz_330_3.mid     \n",
            "  inflating: mozart/mz_331_1.mid     \n",
            "  inflating: mozart/mz_331_2.mid     \n",
            "  inflating: mozart/mz_331_3.mid     \n",
            "  inflating: mozart/mz_332_1.mid     \n",
            "  inflating: mozart/mz_332_2.mid     \n",
            "  inflating: mozart/mz_332_3.mid     \n",
            "  inflating: mozart/mz_333_1.mid     \n",
            "  inflating: mozart/mz_333_2.mid     \n",
            "  inflating: mozart/mz_333_3.mid     \n",
            "  inflating: mozart/mz_545_1.mid     \n",
            "  inflating: mozart/mz_545_2.mid     \n",
            "  inflating: mozart/mz_545_3.mid     \n",
            "  inflating: mozart/mz_570_1.mid     \n",
            "  inflating: mozart/mz_570_2.mid     \n",
            "  inflating: mozart/mz_570_3.mid     \n",
            "  inflating: muss/muss_1.mid         \n",
            "  inflating: muss/muss_2.mid         \n",
            "  inflating: muss/muss_3.mid         \n",
            "  inflating: muss/muss_4.mid         \n",
            "  inflating: muss/muss_5.mid         \n",
            "  inflating: muss/muss_6.mid         \n",
            "  inflating: muss/muss_7.mid         \n",
            "  inflating: muss/muss_8.mid         \n",
            "  inflating: schubert/schu_143_1.mid  \n",
            "  inflating: schubert/schu_143_2.mid  \n",
            "  inflating: schubert/schu_143_3.mid  \n",
            "  inflating: schubert/schub_d760_1.mid  \n",
            "  inflating: schubert/schub_d760_2.mid  \n",
            "  inflating: schubert/schub_d760_3.mid  \n",
            "  inflating: schubert/schub_d760_4.mid  \n",
            "  inflating: schubert/schub_d960_1.mid  \n",
            "  inflating: schubert/schub_d960_2.mid  \n",
            "  inflating: schubert/schub_d960_3.mid  \n",
            "  inflating: schubert/schub_d960_4.mid  \n",
            "  inflating: schubert/schubert_D850_1.mid  \n",
            "  inflating: schubert/schubert_D850_2.mid  \n",
            "  inflating: schubert/schubert_D850_3.mid  \n",
            "  inflating: schubert/schubert_D850_4.mid  \n",
            "  inflating: schubert/schubert_D935_1.mid  \n",
            "  inflating: schubert/schubert_D935_2.mid  \n",
            "  inflating: schubert/schubert_D935_3.mid  \n",
            "  inflating: schubert/schubert_D935_4.mid  \n",
            "  inflating: schubert/schuim-1.mid   \n",
            "  inflating: schubert/schuim-2.mid   \n",
            "  inflating: schubert/schuim-3.mid   \n",
            "  inflating: schubert/schuim-4.mid   \n",
            "  inflating: schubert/schumm-1.mid   \n",
            "  inflating: schubert/schumm-2.mid   \n",
            "  inflating: schubert/schumm-3.mid   \n",
            "  inflating: schubert/schumm-4.mid   \n",
            "  inflating: schubert/schumm-5.mid   \n",
            "  inflating: schubert/schumm-6.mid   \n",
            "  inflating: schumann/schum_abegg.mid  \n",
            "  inflating: schumann/scn15_1.mid    \n",
            "  inflating: schumann/scn15_10.mid   \n",
            "  inflating: schumann/scn15_11.mid   \n",
            "  inflating: schumann/scn15_12.mid   \n",
            "  inflating: schumann/scn15_13.mid   \n",
            "  inflating: schumann/scn15_2.mid    \n",
            "  inflating: schumann/scn15_3.mid    \n",
            "  inflating: schumann/scn15_4.mid    \n",
            "  inflating: schumann/scn15_5.mid    \n",
            "  inflating: schumann/scn15_6.mid    \n",
            "  inflating: schumann/scn15_7.mid    \n",
            "  inflating: schumann/scn15_8.mid    \n",
            "  inflating: schumann/scn15_9.mid    \n",
            "  inflating: schumann/scn16_1.mid    \n",
            "  inflating: schumann/scn16_2.mid    \n",
            "  inflating: schumann/scn16_3.mid    \n",
            "  inflating: schumann/scn16_4.mid    \n",
            "  inflating: schumann/scn16_5.mid    \n",
            "  inflating: schumann/scn16_6.mid    \n",
            "  inflating: schumann/scn16_7.mid    \n",
            "  inflating: schumann/scn16_8.mid    \n",
            "  inflating: schumann/scn68_10.mid   \n",
            "  inflating: schumann/scn68_12.mid   \n",
            "  inflating: tschai/ty_april.mid     \n",
            "  inflating: tschai/ty_august.mid    \n",
            "  inflating: tschai/ty_dezember.mid  \n",
            "  inflating: tschai/ty_februar.mid   \n",
            "  inflating: tschai/ty_januar.mid    \n",
            "  inflating: tschai/ty_juli.mid      \n",
            "  inflating: tschai/ty_juni.mid      \n",
            "  inflating: tschai/ty_maerz.mid     \n",
            "  inflating: tschai/ty_mai.mid       \n",
            "  inflating: tschai/ty_november.mid  \n",
            "  inflating: tschai/ty_oktober.mid   \n",
            "  inflating: tschai/ty_september.mid  \n"
          ]
        }
      ]
    },
    {
      "cell_type": "code",
      "source": [
        "from glob import glob"
      ],
      "metadata": {
        "id": "P0wefi8g2QMC"
      },
      "execution_count": 8,
      "outputs": []
    },
    {
      "cell_type": "code",
      "source": [
        "midi_files = glob('chopin/*.mid')"
      ],
      "metadata": {
        "id": "M_MaLOXR2tMl"
      },
      "execution_count": 9,
      "outputs": []
    },
    {
      "cell_type": "code",
      "source": [
        "len(midi_files)"
      ],
      "metadata": {
        "id": "lS2kh2OL2vcT",
        "outputId": "0a5d628f-7a0f-4c7a-b4de-acd9d4e199e2",
        "colab": {
          "base_uri": "https://localhost:8080/"
        }
      },
      "execution_count": 10,
      "outputs": [
        {
          "output_type": "execute_result",
          "data": {
            "text/plain": [
              "48"
            ]
          },
          "metadata": {},
          "execution_count": 10
        }
      ]
    },
    {
      "cell_type": "code",
      "source": [
        "!pip install tensorflow\n"
      ],
      "metadata": {
        "id": "RmF308fx7hIe",
        "outputId": "8958ac3e-7e0d-47fa-ce7d-e14bc52d7e8b",
        "colab": {
          "base_uri": "https://localhost:8080/"
        }
      },
      "execution_count": 11,
      "outputs": [
        {
          "output_type": "stream",
          "name": "stdout",
          "text": [
            "Requirement already satisfied: tensorflow in /usr/local/lib/python3.11/dist-packages (2.18.0)\n",
            "Requirement already satisfied: absl-py>=1.0.0 in /usr/local/lib/python3.11/dist-packages (from tensorflow) (1.4.0)\n",
            "Requirement already satisfied: astunparse>=1.6.0 in /usr/local/lib/python3.11/dist-packages (from tensorflow) (1.6.3)\n",
            "Requirement already satisfied: flatbuffers>=24.3.25 in /usr/local/lib/python3.11/dist-packages (from tensorflow) (25.2.10)\n",
            "Requirement already satisfied: gast!=0.5.0,!=0.5.1,!=0.5.2,>=0.2.1 in /usr/local/lib/python3.11/dist-packages (from tensorflow) (0.6.0)\n",
            "Requirement already satisfied: google-pasta>=0.1.1 in /usr/local/lib/python3.11/dist-packages (from tensorflow) (0.2.0)\n",
            "Requirement already satisfied: libclang>=13.0.0 in /usr/local/lib/python3.11/dist-packages (from tensorflow) (18.1.1)\n",
            "Requirement already satisfied: opt-einsum>=2.3.2 in /usr/local/lib/python3.11/dist-packages (from tensorflow) (3.4.0)\n",
            "Requirement already satisfied: packaging in /usr/local/lib/python3.11/dist-packages (from tensorflow) (24.2)\n",
            "Requirement already satisfied: protobuf!=4.21.0,!=4.21.1,!=4.21.2,!=4.21.3,!=4.21.4,!=4.21.5,<6.0.0dev,>=3.20.3 in /usr/local/lib/python3.11/dist-packages (from tensorflow) (5.29.4)\n",
            "Requirement already satisfied: requests<3,>=2.21.0 in /usr/local/lib/python3.11/dist-packages (from tensorflow) (2.32.3)\n",
            "Requirement already satisfied: setuptools in /usr/local/lib/python3.11/dist-packages (from tensorflow) (75.2.0)\n",
            "Requirement already satisfied: six>=1.12.0 in /usr/local/lib/python3.11/dist-packages (from tensorflow) (1.17.0)\n",
            "Requirement already satisfied: termcolor>=1.1.0 in /usr/local/lib/python3.11/dist-packages (from tensorflow) (3.1.0)\n",
            "Requirement already satisfied: typing-extensions>=3.6.6 in /usr/local/lib/python3.11/dist-packages (from tensorflow) (4.13.2)\n",
            "Requirement already satisfied: wrapt>=1.11.0 in /usr/local/lib/python3.11/dist-packages (from tensorflow) (1.17.2)\n",
            "Requirement already satisfied: grpcio<2.0,>=1.24.3 in /usr/local/lib/python3.11/dist-packages (from tensorflow) (1.71.0)\n",
            "Requirement already satisfied: tensorboard<2.19,>=2.18 in /usr/local/lib/python3.11/dist-packages (from tensorflow) (2.18.0)\n",
            "Requirement already satisfied: keras>=3.5.0 in /usr/local/lib/python3.11/dist-packages (from tensorflow) (3.8.0)\n",
            "Requirement already satisfied: numpy<2.1.0,>=1.26.0 in /usr/local/lib/python3.11/dist-packages (from tensorflow) (2.0.2)\n",
            "Requirement already satisfied: h5py>=3.11.0 in /usr/local/lib/python3.11/dist-packages (from tensorflow) (3.13.0)\n",
            "Requirement already satisfied: ml-dtypes<0.5.0,>=0.4.0 in /usr/local/lib/python3.11/dist-packages (from tensorflow) (0.4.1)\n",
            "Requirement already satisfied: tensorflow-io-gcs-filesystem>=0.23.1 in /usr/local/lib/python3.11/dist-packages (from tensorflow) (0.37.1)\n",
            "Requirement already satisfied: wheel<1.0,>=0.23.0 in /usr/local/lib/python3.11/dist-packages (from astunparse>=1.6.0->tensorflow) (0.45.1)\n",
            "Requirement already satisfied: rich in /usr/local/lib/python3.11/dist-packages (from keras>=3.5.0->tensorflow) (13.9.4)\n",
            "Requirement already satisfied: namex in /usr/local/lib/python3.11/dist-packages (from keras>=3.5.0->tensorflow) (0.0.9)\n",
            "Requirement already satisfied: optree in /usr/local/lib/python3.11/dist-packages (from keras>=3.5.0->tensorflow) (0.15.0)\n",
            "Requirement already satisfied: charset-normalizer<4,>=2 in /usr/local/lib/python3.11/dist-packages (from requests<3,>=2.21.0->tensorflow) (3.4.2)\n",
            "Requirement already satisfied: idna<4,>=2.5 in /usr/local/lib/python3.11/dist-packages (from requests<3,>=2.21.0->tensorflow) (3.10)\n",
            "Requirement already satisfied: urllib3<3,>=1.21.1 in /usr/local/lib/python3.11/dist-packages (from requests<3,>=2.21.0->tensorflow) (2.4.0)\n",
            "Requirement already satisfied: certifi>=2017.4.17 in /usr/local/lib/python3.11/dist-packages (from requests<3,>=2.21.0->tensorflow) (2025.4.26)\n",
            "Requirement already satisfied: markdown>=2.6.8 in /usr/local/lib/python3.11/dist-packages (from tensorboard<2.19,>=2.18->tensorflow) (3.8)\n",
            "Requirement already satisfied: tensorboard-data-server<0.8.0,>=0.7.0 in /usr/local/lib/python3.11/dist-packages (from tensorboard<2.19,>=2.18->tensorflow) (0.7.2)\n",
            "Requirement already satisfied: werkzeug>=1.0.1 in /usr/local/lib/python3.11/dist-packages (from tensorboard<2.19,>=2.18->tensorflow) (3.1.3)\n",
            "Requirement already satisfied: MarkupSafe>=2.1.1 in /usr/local/lib/python3.11/dist-packages (from werkzeug>=1.0.1->tensorboard<2.19,>=2.18->tensorflow) (3.0.2)\n",
            "Requirement already satisfied: markdown-it-py>=2.2.0 in /usr/local/lib/python3.11/dist-packages (from rich->keras>=3.5.0->tensorflow) (3.0.0)\n",
            "Requirement already satisfied: pygments<3.0.0,>=2.13.0 in /usr/local/lib/python3.11/dist-packages (from rich->keras>=3.5.0->tensorflow) (2.19.1)\n",
            "Requirement already satisfied: mdurl~=0.1 in /usr/local/lib/python3.11/dist-packages (from markdown-it-py>=2.2.0->rich->keras>=3.5.0->tensorflow) (0.1.2)\n"
          ]
        }
      ]
    },
    {
      "cell_type": "code",
      "source": [
        "!pip install music21"
      ],
      "metadata": {
        "id": "GFl0pWZn8NxP",
        "outputId": "b453397f-5ce7-4915-b27e-ae4f131f8fc9",
        "colab": {
          "base_uri": "https://localhost:8080/"
        }
      },
      "execution_count": 12,
      "outputs": [
        {
          "output_type": "stream",
          "name": "stdout",
          "text": [
            "Requirement already satisfied: music21 in /usr/local/lib/python3.11/dist-packages (9.3.0)\n",
            "Requirement already satisfied: chardet in /usr/local/lib/python3.11/dist-packages (from music21) (5.2.0)\n",
            "Requirement already satisfied: joblib in /usr/local/lib/python3.11/dist-packages (from music21) (1.5.0)\n",
            "Requirement already satisfied: jsonpickle in /usr/local/lib/python3.11/dist-packages (from music21) (4.1.0)\n",
            "Requirement already satisfied: matplotlib in /usr/local/lib/python3.11/dist-packages (from music21) (3.10.0)\n",
            "Requirement already satisfied: more-itertools in /usr/local/lib/python3.11/dist-packages (from music21) (10.7.0)\n",
            "Requirement already satisfied: numpy in /usr/local/lib/python3.11/dist-packages (from music21) (2.0.2)\n",
            "Requirement already satisfied: requests in /usr/local/lib/python3.11/dist-packages (from music21) (2.32.3)\n",
            "Requirement already satisfied: webcolors>=1.5 in /usr/local/lib/python3.11/dist-packages (from music21) (24.11.1)\n",
            "Requirement already satisfied: contourpy>=1.0.1 in /usr/local/lib/python3.11/dist-packages (from matplotlib->music21) (1.3.2)\n",
            "Requirement already satisfied: cycler>=0.10 in /usr/local/lib/python3.11/dist-packages (from matplotlib->music21) (0.12.1)\n",
            "Requirement already satisfied: fonttools>=4.22.0 in /usr/local/lib/python3.11/dist-packages (from matplotlib->music21) (4.58.0)\n",
            "Requirement already satisfied: kiwisolver>=1.3.1 in /usr/local/lib/python3.11/dist-packages (from matplotlib->music21) (1.4.8)\n",
            "Requirement already satisfied: packaging>=20.0 in /usr/local/lib/python3.11/dist-packages (from matplotlib->music21) (24.2)\n",
            "Requirement already satisfied: pillow>=8 in /usr/local/lib/python3.11/dist-packages (from matplotlib->music21) (11.2.1)\n",
            "Requirement already satisfied: pyparsing>=2.3.1 in /usr/local/lib/python3.11/dist-packages (from matplotlib->music21) (3.2.3)\n",
            "Requirement already satisfied: python-dateutil>=2.7 in /usr/local/lib/python3.11/dist-packages (from matplotlib->music21) (2.9.0.post0)\n",
            "Requirement already satisfied: charset-normalizer<4,>=2 in /usr/local/lib/python3.11/dist-packages (from requests->music21) (3.4.2)\n",
            "Requirement already satisfied: idna<4,>=2.5 in /usr/local/lib/python3.11/dist-packages (from requests->music21) (3.10)\n",
            "Requirement already satisfied: urllib3<3,>=1.21.1 in /usr/local/lib/python3.11/dist-packages (from requests->music21) (2.4.0)\n",
            "Requirement already satisfied: certifi>=2017.4.17 in /usr/local/lib/python3.11/dist-packages (from requests->music21) (2025.4.26)\n",
            "Requirement already satisfied: six>=1.5 in /usr/local/lib/python3.11/dist-packages (from python-dateutil>=2.7->matplotlib->music21) (1.17.0)\n"
          ]
        }
      ]
    },
    {
      "cell_type": "code",
      "source": [
        "!pip install seaborn"
      ],
      "metadata": {
        "id": "9rlBtJTU8JKJ",
        "outputId": "950783d1-add7-4e3c-a5f9-5f9148eafe90",
        "colab": {
          "base_uri": "https://localhost:8080/"
        }
      },
      "execution_count": 13,
      "outputs": [
        {
          "output_type": "stream",
          "name": "stdout",
          "text": [
            "Requirement already satisfied: seaborn in /usr/local/lib/python3.11/dist-packages (0.13.2)\n",
            "Requirement already satisfied: numpy!=1.24.0,>=1.20 in /usr/local/lib/python3.11/dist-packages (from seaborn) (2.0.2)\n",
            "Requirement already satisfied: pandas>=1.2 in /usr/local/lib/python3.11/dist-packages (from seaborn) (2.2.2)\n",
            "Requirement already satisfied: matplotlib!=3.6.1,>=3.4 in /usr/local/lib/python3.11/dist-packages (from seaborn) (3.10.0)\n",
            "Requirement already satisfied: contourpy>=1.0.1 in /usr/local/lib/python3.11/dist-packages (from matplotlib!=3.6.1,>=3.4->seaborn) (1.3.2)\n",
            "Requirement already satisfied: cycler>=0.10 in /usr/local/lib/python3.11/dist-packages (from matplotlib!=3.6.1,>=3.4->seaborn) (0.12.1)\n",
            "Requirement already satisfied: fonttools>=4.22.0 in /usr/local/lib/python3.11/dist-packages (from matplotlib!=3.6.1,>=3.4->seaborn) (4.58.0)\n",
            "Requirement already satisfied: kiwisolver>=1.3.1 in /usr/local/lib/python3.11/dist-packages (from matplotlib!=3.6.1,>=3.4->seaborn) (1.4.8)\n",
            "Requirement already satisfied: packaging>=20.0 in /usr/local/lib/python3.11/dist-packages (from matplotlib!=3.6.1,>=3.4->seaborn) (24.2)\n",
            "Requirement already satisfied: pillow>=8 in /usr/local/lib/python3.11/dist-packages (from matplotlib!=3.6.1,>=3.4->seaborn) (11.2.1)\n",
            "Requirement already satisfied: pyparsing>=2.3.1 in /usr/local/lib/python3.11/dist-packages (from matplotlib!=3.6.1,>=3.4->seaborn) (3.2.3)\n",
            "Requirement already satisfied: python-dateutil>=2.7 in /usr/local/lib/python3.11/dist-packages (from matplotlib!=3.6.1,>=3.4->seaborn) (2.9.0.post0)\n",
            "Requirement already satisfied: pytz>=2020.1 in /usr/local/lib/python3.11/dist-packages (from pandas>=1.2->seaborn) (2025.2)\n",
            "Requirement already satisfied: tzdata>=2022.7 in /usr/local/lib/python3.11/dist-packages (from pandas>=1.2->seaborn) (2025.2)\n",
            "Requirement already satisfied: six>=1.5 in /usr/local/lib/python3.11/dist-packages (from python-dateutil>=2.7->matplotlib!=3.6.1,>=3.4->seaborn) (1.17.0)\n"
          ]
        }
      ]
    },
    {
      "cell_type": "code",
      "source": [
        "!pip install pydot"
      ],
      "metadata": {
        "id": "fTIZ0VrV9sFw",
        "outputId": "d2588e89-4375-4670-b31a-ecbc2e0f1f5f",
        "colab": {
          "base_uri": "https://localhost:8080/"
        }
      },
      "execution_count": 14,
      "outputs": [
        {
          "output_type": "stream",
          "name": "stdout",
          "text": [
            "Requirement already satisfied: pydot in /usr/local/lib/python3.11/dist-packages (3.0.4)\n",
            "Requirement already satisfied: pyparsing>=3.0.9 in /usr/local/lib/python3.11/dist-packages (from pydot) (3.2.3)\n"
          ]
        }
      ]
    },
    {
      "cell_type": "code",
      "execution_count": 15,
      "metadata": {
        "id": "EwiBn2sb2Osn"
      },
      "outputs": [],
      "source": [
        "#Importing Libraries\n",
        "import tensorflow\n",
        "import numpy as np\n",
        "import pandas as pd\n",
        "from collections import Counter\n",
        "import random\n",
        "import IPython\n",
        "from IPython.display import Image, Audio\n",
        "import music21\n",
        "from music21 import *\n",
        "import matplotlib.pyplot as plt\n",
        "from sklearn.model_selection import train_test_split\n",
        "from tensorflow.keras.utils import plot_model\n",
        "from tensorflow.keras.models import Sequential\n",
        "from tensorflow.keras.layers import LSTM, Dense, Dropout, BatchNormalization, Bidirectional\n",
        "import tensorflow.keras.backend as K\n",
        "from tensorflow.keras.optimizers import Adamax, Adam\n",
        "import seaborn as sns\n",
        "import matplotlib.pyplot as plt\n",
        "import matplotlib.patches as mpatches\n",
        "%matplotlib inline\n",
        "import sys\n",
        "import warnings\n",
        "warnings.filterwarnings(\"ignore\")\n",
        "warnings.simplefilter(\"ignore\")\n",
        "np.random.seed(42)"
      ]
    },
    {
      "cell_type": "code",
      "execution_count": 16,
      "metadata": {
        "id": "LVse6quZ2Oso"
      },
      "outputs": [],
      "source": [
        "!which lilypond"
      ]
    },
    {
      "cell_type": "code",
      "execution_count": 17,
      "metadata": {
        "id": "gdGWeOY-2Osp"
      },
      "outputs": [],
      "source": [
        "import os"
      ]
    },
    {
      "cell_type": "code",
      "execution_count": 18,
      "metadata": {
        "id": "uSOw3Yz32Osq"
      },
      "outputs": [],
      "source": [
        "from tqdm import tqdm"
      ]
    },
    {
      "cell_type": "code",
      "execution_count": null,
      "metadata": {
        "id": "3vdyhJMj2Osq",
        "outputId": "565edb87-740c-4f8a-d2d3-fdfb115ed6ee",
        "colab": {
          "base_uri": "https://localhost:8080/"
        }
      },
      "outputs": [
        {
          "output_type": "stream",
          "name": "stderr",
          "text": [
            " 75%|███████▌  | 36/48 [02:00<00:41,  3.43s/it]"
          ]
        }
      ],
      "source": [
        "#Loading the list of chopin's midi files as stream\n",
        "filepath = \"./chopin/\"\n",
        "#Getting midi files\n",
        "all_midis= []\n",
        "for i in tqdm(os.listdir(filepath)):\n",
        "    if i.endswith(\".mid\"):\n",
        "        tr = filepath+i\n",
        "        try:\n",
        "            midi = converter.parse(tr)\n",
        "        except Exception as e:\n",
        "            print(f\"Error parsing {tr}: {e}\")\n",
        "            continue\n",
        "        all_midis.append(midi)"
      ]
    },
    {
      "cell_type": "code",
      "execution_count": null,
      "metadata": {
        "id": "TaWk8Faa2Osq"
      },
      "outputs": [],
      "source": [
        "def extract_notes(file):\n",
        "    notes = []\n",
        "    pick = None\n",
        "    for j in file:\n",
        "        songs = instrument.partitionByInstrument(j)\n",
        "        for part in songs.parts:\n",
        "            pick = part.recurse()\n",
        "            for element in pick:\n",
        "                if isinstance(element, note.Note):\n",
        "                    notes.append(str(element.pitch))\n",
        "                elif isinstance(element, chord.Chord):\n",
        "                    notes.append(\".\".join(str(n) for n in element.normalOrder))\n",
        "\n",
        "    return notes\n",
        "#Getting the list of notes as Corpus\n",
        "Corpus= extract_notes(all_midis)\n",
        "print(\"Total notes in all the Chopin midis in the dataset:\", len(Corpus))"
      ]
    },
    {
      "cell_type": "code",
      "execution_count": null,
      "metadata": {
        "id": "6ma26jGg2Osq"
      },
      "outputs": [],
      "source": [
        "print(\"First fifty values in the Corpus:\", Corpus[:50])\n"
      ]
    },
    {
      "cell_type": "code",
      "execution_count": null,
      "metadata": {
        "id": "TSkV3lH-2Osr"
      },
      "outputs": [],
      "source": [
        "# #First Lets write some functions that we need to look into the data\n",
        "# def show(music):\n",
        "#     display(Image(str(music.write(\"lily.png\"))))\n",
        "\n",
        "# def chords_n_notes(Snippet):\n",
        "#     Melody = []\n",
        "#     offset = 0 #Incremental\n",
        "#     for i in Snippet:\n",
        "#         #If it is chord\n",
        "#         if (\".\" in i or i.isdigit()):\n",
        "#             chord_notes = i.split(\".\") #Seperating the notes in chord\n",
        "#             notes = []\n",
        "#             for j in chord_notes:\n",
        "#                 inst_note=int(j)\n",
        "#                 note_snip = note.Note(inst_note)\n",
        "#                 notes.append(note_snip)\n",
        "#                 chord_snip = chord.Chord(notes)\n",
        "#                 chord_snip.offset = offset\n",
        "#                 Melody.append(chord_snip)\n",
        "#         # pattern is a note\n",
        "#         else:\n",
        "#             note_snip = note.Note(i)\n",
        "#             note_snip.offset = offset\n",
        "#             Melody.append(note_snip)\n",
        "#         # increase offset each iteration so that notes do not stack\n",
        "#         offset += 1\n",
        "#     Melody_midi = stream.Stream(Melody)\n",
        "#     return Melody_midi"
      ]
    },
    {
      "cell_type": "code",
      "execution_count": null,
      "metadata": {
        "id": "_25AaWPg2Osr"
      },
      "outputs": [],
      "source": [
        "# Melody_Snippet = chords_n_notes(Corpus[:100])\n",
        "# show(Melody_Snippet)"
      ]
    },
    {
      "cell_type": "code",
      "execution_count": null,
      "metadata": {
        "id": "j4v0vsvv2Osr"
      },
      "outputs": [],
      "source": [
        "from music21 import *\n",
        "\n",
        "# Printing the music sheet and playing MIDI\n",
        "def show_and_play(music):\n",
        "    # Show the music sheet as an image\n",
        "    display(Image(str(music.write(\"lily.png\"))))\n",
        "\n",
        "    # Play the music using MIDI\n",
        "    music.show('midi')  # This will play the music using the default MIDI player\n",
        "\n",
        "def chords_n_notes(Snippet):\n",
        "    Melody = []\n",
        "    offset = 0\n",
        "    for i in Snippet:\n",
        "        if (\".\" in i or i.isdigit()):\n",
        "            chord_notes = i.split(\".\")  # Breaking down the notes that make up a chord\n",
        "            notes = []\n",
        "            for j in chord_notes:\n",
        "                inst_note = int(j)\n",
        "                note_snip = note.Note(inst_note)\n",
        "                notes.append(note_snip)\n",
        "            chord_snip = chord.Chord(notes)\n",
        "            chord_snip.offset = offset\n",
        "            Melody.append(chord_snip)\n",
        "        else:\n",
        "            note_snip = note.Note(i)\n",
        "            note_snip.offset = offset\n",
        "            Melody.append(note_snip)\n",
        "        offset += 1\n",
        "\n",
        "    Melody_midi = stream.Stream(Melody)\n",
        "    return Melody_midi\n"
      ]
    },
    {
      "cell_type": "code",
      "source": [
        "!apt update\n",
        "!apt install -y lilypond"
      ],
      "metadata": {
        "id": "Mi49bwqz4P-s"
      },
      "execution_count": null,
      "outputs": []
    },
    {
      "cell_type": "code",
      "source": [
        "from music21 import environment\n",
        "us = environment.UserSettings()\n",
        "print(us.getSettingsPath())\n",
        "print(us['lilypondPath'])"
      ],
      "metadata": {
        "id": "3RjZnDIs4wWA"
      },
      "execution_count": null,
      "outputs": []
    },
    {
      "cell_type": "code",
      "source": [
        "# from music21 import environment\n",
        "# us = environment.UserSettings()\n",
        "# # Now set the path (replace with your actual path)\n",
        "# us['lilypondPath'] = '/usr/bin/lilypond' # Or your specific path\n"
      ],
      "metadata": {
        "id": "tpZHjr145Nd3"
      },
      "execution_count": null,
      "outputs": []
    },
    {
      "cell_type": "code",
      "execution_count": null,
      "metadata": {
        "id": "4AGB-l672Osr"
      },
      "outputs": [],
      "source": [
        "\n",
        "# Example: Create a Melody from a snippet of the Corpus\n",
        "Melody_Snippet = chords_n_notes(Corpus[:100])\n",
        "\n",
        "# Show the music sheet and play the music\n",
        "show_and_play(Melody_Snippet)"
      ]
    },
    {
      "cell_type": "code",
      "source": [
        "count_num = Counter(Corpus)\n",
        "print(\"\\033[96m The total count of unique notes in the Corpus:\\033[0m\", len(count_num))"
      ],
      "metadata": {
        "id": "48P5GG9U5jCK"
      },
      "execution_count": null,
      "outputs": []
    },
    {
      "cell_type": "code",
      "source": [
        "Notes = list(count_num.keys())\n",
        "Recurrence = list(count_num.values())\n",
        "# Plotting the distribution of Notes with enhanced aesthetics\n",
        "plt.figure(figsize=(18, 6))\n",
        "bins = np.arange(0, max(Recurrence) + 50, 50)\n",
        "plt.hist(Recurrence, bins=bins, color=\"#86A9C1\", edgecolor=\"#5D6F82\", alpha=0.7)\n",
        "plt.axvline(x=100, color=\"#DBACC1\", linestyle='--', linewidth=2, label='Threshold: 100')\n",
        "plt.title(\"Frequency Distribution of Notes in the Corpus\", fontsize=16, weight='bold')\n",
        "plt.xlabel(\"Number of Occurrences per Note\", fontsize=12)\n",
        "plt.ylabel(\"Number of Unique Notes\", fontsize=12)\n",
        "plt.legend()\n",
        "plt.grid(True, linestyle='--', alpha=0.3)\n",
        "plt.tight_layout()\n",
        "plt.show()"
      ],
      "metadata": {
        "id": "NO32OInz4PI-"
      },
      "execution_count": null,
      "outputs": []
    },
    {
      "cell_type": "code",
      "execution_count": null,
      "metadata": {
        "id": "L7wNQKNi2Osr"
      },
      "outputs": [],
      "source": [
        "rare_note = []\n",
        "for index, (key, value) in enumerate(count_num.items()):\n",
        "    if value < 100:\n",
        "        m =  key\n",
        "        rare_note.append(m)\n",
        "\n",
        "print(\"\\033[96m The total count of notes that appear fewer than 100 times:\\033[0m\", len(rare_note))\n",
        "\n",
        "for element in Corpus:\n",
        "    if element in rare_note:\n",
        "        Corpus.remove(element)\n",
        "\n",
        "print(\"\\033[96m The length of the Corpus after removing the rare notes:\\033[0m\", len(Corpus))"
      ]
    },
    {
      "cell_type": "code",
      "source": [
        "sym = sorted(list(set(Corpus)))\n",
        "corp = len(Corpus) #length of corpus\n",
        "symb = len(sym) #length of total unique characters\n",
        "\n",
        "#Building dictionary to access the vocabulary from indices and vice versa\n",
        "mapping = dict((c, i) for i, c in enumerate(sym))\n",
        "reverse_mapping = dict((i, c) for i, c in enumerate(sym))\n",
        "\n",
        "print(\"\\033[96mTotal number of characters:\\033[0m\", corp)\n",
        "print(\"\\033[96mTotal number of unique characters:\\033[0m\", sym)\n"
      ],
      "metadata": {
        "id": "R9w2Yb715qb2"
      },
      "execution_count": null,
      "outputs": []
    },
    {
      "cell_type": "code",
      "source": [
        "length = 40\n",
        "features = []\n",
        "targets = []\n",
        "for i in range(0, corp - length, 1):\n",
        "    feature = Corpus[i:i + length]\n",
        "    target = Corpus[i + length]\n",
        "    features.append([mapping[j] for j in feature])\n",
        "    targets.append(mapping[target])\n",
        "data_ = len(targets)\n",
        "print(\"\\033[96mTotal count of sequences within the corpus:\\033[0m\", data_)"
      ],
      "metadata": {
        "id": "rdOk0QTh5rcF"
      },
      "execution_count": null,
      "outputs": []
    },
    {
      "cell_type": "code",
      "source": [
        "# Normalize\n",
        "X = (np.reshape(features, (data_, length, 1))) / float(len(sym))\n",
        "y = tensorflow.keras.utils.to_categorical(targets)"
      ],
      "metadata": {
        "id": "1qJOWQGM5rri"
      },
      "execution_count": null,
      "outputs": []
    },
    {
      "cell_type": "code",
      "source": [
        "# Split the data\n",
        "X_train, X_test, y_train, y_test = train_test_split(X, y, test_size=0.2, random_state=42)\n",
        "\n",
        "# Define model\n",
        "model = Sequential()\n",
        "\n",
        "# Bidirectional LSTM Layer 1\n",
        "model.add(Bidirectional(LSTM(512, return_sequences=True, recurrent_dropout=0.2),\n",
        "                        input_shape=(X.shape[1], X.shape[2])))\n",
        "model.add(BatchNormalization())\n",
        "model.add(Dropout(0.3))\n",
        "\n",
        "# LSTM Layer 2\n",
        "model.add(LSTM(256, return_sequences=True, recurrent_dropout=0.2))\n",
        "model.add(BatchNormalization())\n",
        "model.add(Dropout(0.3))\n",
        "\n",
        "# LSTM Layer 3\n",
        "model.add(LSTM(128))\n",
        "model.add(BatchNormalization())\n",
        "model.add(Dropout(0.3))\n",
        "\n",
        "# Fully Connected Dense Layers\n",
        "model.add(Dense(256, activation='relu'))\n",
        "model.add(Dropout(0.4))\n",
        "\n",
        "# Output Layer\n",
        "model.add(Dense(y.shape[1], activation='softmax'))\n",
        "\n",
        "# Compile model\n",
        "opt = Adam(learning_rate=0.001)\n",
        "model.compile(loss='categorical_crossentropy', optimizer=opt, metrics=['accuracy'])"
      ],
      "metadata": {
        "id": "oqfYXs5E5rwb"
      },
      "execution_count": null,
      "outputs": []
    },
    {
      "cell_type": "code",
      "source": [
        "model.summary()\n"
      ],
      "metadata": {
        "id": "fP7DQmt15r0F"
      },
      "execution_count": null,
      "outputs": []
    },
    {
      "cell_type": "code",
      "source": [
        "plot_model(model, to_file='model_structure.png', show_shapes=True, show_layer_names=True)"
      ],
      "metadata": {
        "id": "wONL4jAn5r4F"
      },
      "execution_count": null,
      "outputs": []
    },
    {
      "cell_type": "code",
      "source": [
        "history = model.fit(X_train, y_train, batch_size=256, epochs=50)\n"
      ],
      "metadata": {
        "id": "Plu2BfwV5r8r"
      },
      "execution_count": null,
      "outputs": []
    },
    {
      "cell_type": "code",
      "source": [
        "history_df = pd.DataFrame(history.history)\n",
        "sns.set_theme(style=\"whitegrid\")\n",
        "fig = plt.figure(figsize=(15, 8),)\n",
        "fig.suptitle(\"Training Loss Over Epochs\", fontsize=16, fontweight='bold')\n",
        "ax = sns.lineplot(\n",
        "    data=history_df[\"loss\"],\n",
        "    linewidth=2.5,\n",
        "    color=\"#5A4E7C\",\n",
        "    marker='o',\n",
        "    markersize=6\n",
        ")\n",
        "ax.set_xlabel(\"Epochs\", fontsize=14, fontweight='semibold', color=\"#444444\")\n",
        "ax.set_ylabel(\"Training Loss\", fontsize=14, fontweight='semibold', color=\"#444444\")\n",
        "ax.tick_params(axis='x', labelsize=12)\n",
        "ax.tick_params(axis='y', labelsize=12)\n",
        "sns.despine()\n",
        "plt.tight_layout()\n",
        "plt.show()"
      ],
      "metadata": {
        "id": "UMpRwuPS5sBU"
      },
      "execution_count": null,
      "outputs": []
    },
    {
      "cell_type": "code",
      "source": [
        "from IPython.display import Image, display\n",
        "\n",
        "def chords_n_notes(Snippet):\n",
        "    Melody = []\n",
        "    offset = 0\n",
        "    for i in Snippet:\n",
        "        if \".\" in i or i.isdigit():\n",
        "            chord_notes = i.split(\".\")\n",
        "            notes = []\n",
        "            for j in chord_notes:\n",
        "                inst_note = int(j)\n",
        "                note_snip = note.Note(inst_note)\n",
        "                notes.append(note_snip)\n",
        "            chord_snip = chord.Chord(notes)\n",
        "            chord_snip.offset = offset\n",
        "            Melody.append(chord_snip)\n",
        "        else:\n",
        "            note_snip = note.Note(i)\n",
        "            note_snip.offset = offset\n",
        "            Melody.append(note_snip)\n",
        "        offset += 1\n",
        "    return stream.Stream(Melody)\n",
        "\n",
        "def show_and_play(music):\n",
        "    display(Image(str(music.write(\"lily.png\"))))\n",
        "    music.show('midi')\n",
        "\n",
        "def Generator(count):\n",
        "    seed_idx = np.random.randint(0, len(X_test) - 1)\n",
        "    test = X_test[seed_idx]\n",
        "    generated_indices = []\n",
        "\n",
        "    for _ in range(count):\n",
        "        test_input = test.reshape(1, length, 1)\n",
        "        prediction = model.predict(test_input, verbose=0)[0]\n",
        "\n",
        "        # Sampling with temperature\n",
        "        prediction = np.log(prediction + 1e-8) / 1.0\n",
        "        exp_preds = np.exp(prediction)\n",
        "        prediction = exp_preds / np.sum(exp_preds)\n",
        "\n",
        "        # Sampling instead of argmax to create more variation\n",
        "        index = np.random.choice(len(prediction), p=prediction)\n",
        "\n",
        "        generated_indices.append(index)\n",
        "\n",
        "        # Normalize new input and shift window\n",
        "        next_note = index / float(len(sym))\n",
        "        test = np.append(test, [[next_note]], axis=0)\n",
        "        test = test[1:]\n",
        "\n",
        "    # Map back to note names\n",
        "    generated_notes = [reverse_mapping[i] for i in generated_indices]\n",
        "\n",
        "    # Convert notes to MIDI stream\n",
        "    melody = chords_n_notes(generated_notes)\n",
        "    show_and_play(melody)\n",
        "\n",
        "    return generated_notes, melody\n",
        "music_notes, melody_stream = Generator(100)"
      ],
      "metadata": {
        "id": "LgfyEShf5sFk"
      },
      "execution_count": null,
      "outputs": []
    },
    {
      "cell_type": "code",
      "source": [
        "for i in range(5):\n",
        "    print(f\"\\033[94m🎼 Melody Sample {i+1}\\033[0m\")\n",
        "    notes, melody = Generator(100)\n",
        "    show_and_play(melody)"
      ],
      "metadata": {
        "id": "af4gZk7_5sJ-"
      },
      "execution_count": null,
      "outputs": []
    },
    {
      "cell_type": "code",
      "source": [],
      "metadata": {
        "id": "LMMSGhGI5sNy"
      },
      "execution_count": null,
      "outputs": []
    },
    {
      "cell_type": "code",
      "source": [],
      "metadata": {
        "id": "gjznzO6K5sSa"
      },
      "execution_count": null,
      "outputs": []
    },
    {
      "cell_type": "code",
      "source": [],
      "metadata": {
        "id": "BBvXtII-9po5"
      },
      "execution_count": null,
      "outputs": []
    },
    {
      "cell_type": "markdown",
      "metadata": {
        "id": "DCPxtNI82Osr"
      },
      "source": []
    }
  ],
  "metadata": {
    "kernelspec": {
      "display_name": "Python 3",
      "name": "python3"
    },
    "language_info": {
      "codemirror_mode": {
        "name": "ipython",
        "version": 3
      },
      "file_extension": ".py",
      "mimetype": "text/x-python",
      "name": "python",
      "nbconvert_exporter": "python",
      "pygments_lexer": "ipython3",
      "version": "3.9.6"
    },
    "colab": {
      "provenance": [],
      "gpuType": "T4",
      "include_colab_link": true
    },
    "accelerator": "GPU"
  },
  "nbformat": 4,
  "nbformat_minor": 0
}